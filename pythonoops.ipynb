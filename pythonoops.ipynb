{
 "cells": [
  {
   "cell_type": "code",
   "execution_count": 34,
   "metadata": {},
   "outputs": [
    {
     "name": "stdout",
     "output_type": "stream",
     "text": [
      "Ali\n",
      "19\n",
      "19\n",
      "Your Update ID IS :124\n",
      "124\n"
     ]
    }
   ],
   "source": [
    "#Simple Class Code\n",
    "class Registration():\n",
    "    def __init__(ali,name,ids,age):\n",
    "        ali.name=name\n",
    "        ali.ids=ids\n",
    "        ali.age=age\n",
    "        ali.uniname='PAF-KIET'\n",
    "        \n",
    "    def print_All_info(ali,name,ids,age):\n",
    "        print(name)\n",
    "        print(ids)\n",
    "        print(age)\n",
    "\n",
    "    def update_ids(ali,ids):\n",
    "        ali.ids=ids\n",
    "        ali.ids+=1\n",
    "        print(\"Your Update ID IS :\" +str(stu1.ids))\n",
    "        \n",
    "       \n",
    "    \n",
    "stu1 =Registration('Ali',19,19)\n",
    "stu1.print_All_info('Ali',19,19)\n",
    "stu1.update_ids(123)\n",
    "print(stu1.ids)"
   ]
  },
  {
   "cell_type": "code",
   "execution_count": 53,
   "metadata": {},
   "outputs": [
    {
     "name": "stdout",
     "output_type": "stream",
     "text": [
      "2010\n",
      "Yes\n",
      "************************\n",
      "updated model of car is :2012\n",
      "No\n",
      "123\n",
      "&&&&&&&&&&&&&&&\n",
      "The Model of Car is :2012 . Car Name Is Mira And Color Of Car is Pink .Speed Of Car is2000\n"
     ]
    }
   ],
   "source": [
    "#inheritane\n",
    "class Car():\n",
    "    def __init__(self,model,name,color):\n",
    "        self.model=model\n",
    "        self.color=color\n",
    "        self.name=name\n",
    "        \n",
    "    def update_model(self,newmodel):\n",
    "        self.model=newmodel\n",
    "        print(\"updated model of car is :\" + str(newmodel))\n",
    "        \n",
    "    \n",
    "    def tank(self):\n",
    "        print(\"Yes\")\n",
    "        \n",
    "    \n",
    "class Electric_car(Car):\n",
    "    def __init__(self,model,name,color,speed):\n",
    "        super().__init__(model,name,color)\n",
    "        self.speed=speed\n",
    "        \n",
    "    def tank(self):\n",
    "        print(\"No\")\n",
    "        \n",
    "    def DisplayAllDetails(self,model,name,color,speed):\n",
    "        self.model=model\n",
    "        self.color=color\n",
    "        self.name=name\n",
    "        self.speed=speed\n",
    "        print(\"The Model of Car is :{} . Car Name Is {} And Color Of Car is {} .Speed Of Car is{}\".format(self.model,self.name,self.color,self.speed))\n",
    "car1=Car(2010,'corolla','black')\n",
    "print(car1.model)\n",
    "car1.tank()\n",
    "print(\"************************\")\n",
    "car1.update_model(2012)\n",
    "car2=Electric_car(2,'abc','red',123)\n",
    "car2.tank()\n",
    "print(car2.speed)\n",
    "print(\"&&&&&&&&&&&&&&&\")\n",
    "car2.DisplayAllDetails(2012,'Mira','Pink',2000)\n",
    "\n",
    "\n",
    "    "
   ]
  },
  {
   "cell_type": "code",
   "execution_count": 66,
   "metadata": {},
   "outputs": [
    {
     "name": "stdout",
     "output_type": "stream",
     "text": [
      "30Kilometer pr litre \n",
      "30Kilometer pr litre \n",
      "333Kilometer pr litre \n"
     ]
    }
   ],
   "source": [
    "#Encapculation\n",
    "class NewCar():\n",
    "    def __init__(self):\n",
    "        self. __maxaverage='30'\n",
    "        \n",
    "    def Average(self):\n",
    "        print(\"{}Kilometer pr litre \".format(self.__maxaverage))\n",
    "        \n",
    "    def Update_Average(self,update_value):\n",
    "        self.__maxaverage=update_value\n",
    "        \n",
    "obj=NewCar()\n",
    "obj.Average()\n",
    "obj.__maxaverage=60\n",
    "obj.Average()\n",
    "obj.Update_Average('333')\n",
    "obj.Average()\n"
   ]
  },
  {
   "cell_type": "code",
   "execution_count": 82,
   "metadata": {},
   "outputs": [
    {
     "name": "stdout",
     "output_type": "stream",
     "text": [
      "the capital of usa is washington dc and population of usa is 40 coror\n",
      "the capital of pakistan is islamabad and population of pakistan is 40 coror\n",
      "############\n"
     ]
    }
   ],
   "source": [
    "#polymorphism\n",
    "class Pakistan():\n",
    "    \n",
    "    def detail(self):\n",
    "        print(\"the capital of pakistan is islamabad and population of pakistan is 40 coror\")\n",
    "class USA():\n",
    "    def detail(self):\n",
    "        print(\"the capital of usa is washington dc and population of usa is 40 coror\")\n",
    "        \n",
    "def description(country):\n",
    "        country.detail()\n",
    "        \n",
    "pak=Pakistan()\n",
    "usa=USA()\n",
    "description(usa)\n",
    "\n",
    "description(pak)\n",
    "print(\"############\")\n",
    "\n",
    "        "
   ]
  },
  {
   "cell_type": "code",
   "execution_count": 84,
   "metadata": {},
   "outputs": [
    {
     "name": "stdout",
     "output_type": "stream",
     "text": [
      "12\n",
      "4\n"
     ]
    }
   ],
   "source": [
    "#overriding\n",
    "print(len(\"Muhammad Ali\"))\n",
    "print(len([1,2,3,4]))"
   ]
  },
  {
   "cell_type": "code",
   "execution_count": 94,
   "metadata": {},
   "outputs": [
    {
     "name": "stdout",
     "output_type": "stream",
     "text": [
      "6\n",
      "6110\n"
     ]
    }
   ],
   "source": [
    "#overloading\n",
    "class Overloadingdemo():\n",
    "    def sums(self,a=None,b=None,c=None):\n",
    "        if a!=None and b!=None and c!=None:\n",
    "            print(a+b+c)\n",
    "        elif a!=None and b!=None:\n",
    "            print(a+b)\n",
    "        else: \n",
    "            print(\"Invalid\")\n",
    "            \n",
    "obj=Overloadingdemo()\n",
    "obj.sums(1,2,3)\n",
    "obj.sums(5555,555)"
   ]
  },
  {
   "cell_type": "code",
   "execution_count": 100,
   "metadata": {},
   "outputs": [
    {
     "name": "stdout",
     "output_type": "stream",
     "text": [
      "Valima going on\n",
      "he gives 10 tola\n"
     ]
    }
   ],
   "source": [
    "#Abstraction\n",
    "from abc import ABC,abstractmethod\n",
    "class Nikah(ABC):\n",
    "    @abstractmethod\n",
    "    def haqmeher(self):\n",
    "        pass\n",
    "        \n",
    "class Human1(Nikah):\n",
    "    def haqmeher(self,tola):\n",
    "        print(\"he gives \"+#str(tola)+\" tola\")\n",
    "        \n",
    "    def valima(self):\n",
    "        print(\"Valima going on\")\n",
    "        \n",
    "obj=Human1()\n",
    "obj.valima()\n",
    "obj.haqmeher(10)\n",
    "    \n"
   ]
  },
  {
   "cell_type": "code",
   "execution_count": 10,
   "metadata": {},
   "outputs": [
    {
     "name": "stdout",
     "output_type": "stream",
     "text": [
      "Element in our list :\n",
      "\n",
      " Options:\n",
      "1.Add Element.\n",
      "2.Delete Element.\n",
      "3.Delete All Element.\n",
      "4 Exit.\n",
      "Note: Please enter input in number like 1,2,3,4\n",
      "Please enter your choice:1\n",
      "please enter your elementali\n",
      "Element in our list :\n",
      "=>ali\n",
      "\n",
      " Options:\n",
      "1.Add Element.\n",
      "2.Delete Element.\n",
      "3.Delete All Element.\n",
      "4 Exit.\n",
      "Note: Please enter input in number like 1,2,3,4\n",
      "Please enter your choice:1\n",
      "please enter your elementaslam\n",
      "Element in our list :\n",
      "=>ali\n",
      "=>aslam\n",
      "\n",
      " Options:\n",
      "1.Add Element.\n",
      "2.Delete Element.\n",
      "3.Delete All Element.\n",
      "4 Exit.\n",
      "Note: Please enter input in number like 1,2,3,4\n",
      "Please enter your choice:1\n",
      "please enter your elementasad\n",
      "Element in our list :\n",
      "=>ali\n",
      "=>aslam\n",
      "=>asad\n",
      "\n",
      " Options:\n",
      "1.Add Element.\n",
      "2.Delete Element.\n",
      "3.Delete All Element.\n",
      "4 Exit.\n",
      "Note: Please enter input in number like 1,2,3,4\n",
      "Please enter your choice:3\n",
      "Element in our list :\n",
      "\n",
      " Options:\n",
      "1.Add Element.\n",
      "2.Delete Element.\n",
      "3.Delete All Element.\n",
      "4 Exit.\n",
      "Note: Please enter input in number like 1,2,3,4\n",
      "Please enter your choice:4\n"
     ]
    }
   ],
   "source": [
    "#todoApp\n",
    "elements=[]\n",
    "while True:\n",
    "    print(\"Element in our list :\")\n",
    "    for element in elements:\n",
    "        print(\"=>\"+ element)\n",
    "    print(\"\\n Options:\")\n",
    "    print(\"1.Add Element.\")\n",
    "    print(\"2.Delete Element.\")\n",
    "    print(\"3.Delete All Element.\")\n",
    "    print(\"4 Exit.\")\n",
    "    print(\"Note: Please enter input in number like 1,2,3,4\")\n",
    "    inp=input(\"Please enter your choice:\")\n",
    "    if inp=='1':\n",
    "        elements.append(input(\"please enter your element\"))\n",
    "    elif inp=='2':\n",
    "        elements.remove(input(\"please enter element to delete\"))\n",
    "    elif inp=='3':\n",
    "        elements.clear()\n",
    "    else:\n",
    "        break\n",
    "        "
   ]
  },
  {
   "cell_type": "code",
   "execution_count": null,
   "metadata": {},
   "outputs": [],
   "source": []
  }
 ],
 "metadata": {
  "kernelspec": {
   "display_name": "Python 3",
   "language": "python",
   "name": "python3"
  },
  "language_info": {
   "codemirror_mode": {
    "name": "ipython",
    "version": 3
   },
   "file_extension": ".py",
   "mimetype": "text/x-python",
   "name": "python",
   "nbconvert_exporter": "python",
   "pygments_lexer": "ipython3",
   "version": "3.7.4"
  }
 },
 "nbformat": 4,
 "nbformat_minor": 2
}
